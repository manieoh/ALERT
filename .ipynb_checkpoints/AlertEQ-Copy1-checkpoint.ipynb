{
 "cells": [
  {
   "cell_type": "code",
   "execution_count": 1,
   "metadata": {},
   "outputs": [],
   "source": [
    "import numpy as np\n",
    "import pandas as pd\n",
    "import matplotlib.pyplot\n",
    "%matplotlib inline\n",
    "import requests\n",
    "import DeeperTradeLibrary as dpt\n",
    "import datetime\n",
    "import pickle"
   ]
  },
  {
   "cell_type": "code",
   "execution_count": 2,
   "metadata": {},
   "outputs": [],
   "source": [
    "import requests\n",
    "import time\n",
    "from datetime import datetime\n",
    "import tqdm"
   ]
  },
  {
   "cell_type": "code",
   "execution_count": 3,
   "metadata": {},
   "outputs": [
    {
     "data": {
      "text/html": [
       "<div>\n",
       "<style scoped>\n",
       "    .dataframe tbody tr th:only-of-type {\n",
       "        vertical-align: middle;\n",
       "    }\n",
       "\n",
       "    .dataframe tbody tr th {\n",
       "        vertical-align: top;\n",
       "    }\n",
       "\n",
       "    .dataframe thead th {\n",
       "        text-align: right;\n",
       "    }\n",
       "</style>\n",
       "<table border=\"1\" class=\"dataframe\">\n",
       "  <thead>\n",
       "    <tr style=\"text-align: right;\">\n",
       "      <th></th>\n",
       "      <th>Symbol</th>\n",
       "    </tr>\n",
       "  </thead>\n",
       "  <tbody>\n",
       "    <tr>\n",
       "      <th>0</th>\n",
       "      <td>ADVANC</td>\n",
       "    </tr>\n",
       "    <tr>\n",
       "      <th>1</th>\n",
       "      <td>AOT</td>\n",
       "    </tr>\n",
       "    <tr>\n",
       "      <th>2</th>\n",
       "      <td>AWC</td>\n",
       "    </tr>\n",
       "    <tr>\n",
       "      <th>3</th>\n",
       "      <td>BANPU</td>\n",
       "    </tr>\n",
       "    <tr>\n",
       "      <th>4</th>\n",
       "      <td>BBL</td>\n",
       "    </tr>\n",
       "  </tbody>\n",
       "</table>\n",
       "</div>"
      ],
      "text/plain": [
       "   Symbol\n",
       "0  ADVANC\n",
       "1     AOT\n",
       "2     AWC\n",
       "3   BANPU\n",
       "4     BBL"
      ]
     },
     "execution_count": 3,
     "metadata": {},
     "output_type": "execute_result"
    }
   ],
   "source": [
    "SET100 = pd.read_csv('th_set100.txt', header=None)\n",
    "SET100.columns = ['Symbol']\n",
    "SET100.head()"
   ]
  },
  {
   "cell_type": "code",
   "execution_count": 4,
   "metadata": {},
   "outputs": [],
   "source": [
    "SET100_list = SET100['Symbol'].values"
   ]
  },
  {
   "cell_type": "code",
   "execution_count": 5,
   "metadata": {},
   "outputs": [],
   "source": [
    "all_symbol_df = dict()"
   ]
  },
  {
   "cell_type": "code",
   "execution_count": 6,
   "metadata": {},
   "outputs": [
    {
     "name": "stderr",
     "output_type": "stream",
     "text": [
      "100%|████████████████████████████████████████████████████████████████████████████████| 100/100 [00:25<00:00,  2.74it/s]\n"
     ]
    }
   ],
   "source": [
    "for symbol in tqdm.tqdm(SET100_list):\n",
    "    all_symbol_df[symbol] = dpt.API.get_instrument_data('EF0AE94CB841F6F8CC32963815D7C1BC', \n",
    "                                                        country='TH', instrument=symbol, length=2)"
   ]
  },
  {
   "cell_type": "code",
   "execution_count": 19,
   "metadata": {},
   "outputs": [],
   "source": [
    "pct_change_all_symbol = dict()"
   ]
  },
  {
   "cell_type": "code",
   "execution_count": 22,
   "metadata": {},
   "outputs": [],
   "source": [
    "#หา %Change ของทั้งหมด"
   ]
  },
  {
   "cell_type": "code",
   "execution_count": 38,
   "metadata": {},
   "outputs": [],
   "source": [
    "for symbol in SET100_list:\n",
    "    pct_change_all_symbol[symbol] = all_symbol_df[symbol].close.pct_change()[1]"
   ]
  },
  {
   "cell_type": "code",
   "execution_count": 46,
   "metadata": {},
   "outputs": [],
   "source": [
    "#สร้าง Flag เพื่อตรวจสอบว่าส่งข้อความไปแล้วหรือยัง\n",
    "alert = dict()\n",
    "for symbol in SET100_list:\n",
    "    alert[symbol] = False"
   ]
  },
  {
   "cell_type": "code",
   "execution_count": 47,
   "metadata": {},
   "outputs": [
    {
     "name": "stdout",
     "output_type": "stream",
     "text": [
      "ADVANC >2%\n",
      "BTS >2%\n",
      "CPF >2%\n",
      "EA >2%\n",
      "GPSC >2%\n",
      "INTUCH >2%\n",
      "SAWAD >2%\n",
      "CK >2%\n",
      "EPG >2%\n",
      "JMT >2%\n",
      "STA >2%\n",
      "STEC >2%\n",
      "TQM >2%\n"
     ]
    }
   ],
   "source": [
    "for symbol in pct_change_all_symbol:\n",
    "    if pct_change_all_symbol[symbol] >= 0.02 and (not alert[symbol]):\n",
    "        print(symbol, '>2%')\n",
    "        alert[symbol] = True"
   ]
  },
  {
   "cell_type": "code",
   "execution_count": 50,
   "metadata": {},
   "outputs": [
    {
     "data": {
      "text/plain": [
       "{'Name': 'DeeperTrade RestAPI', 'Version': '2.0.2.0', 'Release': '2020-02-02'}"
      ]
     },
     "execution_count": 50,
     "metadata": {},
     "output_type": "execute_result"
    }
   ],
   "source": [
    "token = 'EF0AE94CB841F6F8CC32963815D7C1BC'\n",
    "url = 'https://deepertrade.azure-api.net/info'\n",
    "\n",
    "api_headers = {\n",
    "    'Authorization':'Bearer ' + token\n",
    "}\n",
    "r = requests.get(url, headers=api_headers)\n",
    "r.json()"
   ]
  },
  {
   "cell_type": "code",
   "execution_count": 51,
   "metadata": {},
   "outputs": [
    {
     "data": {
      "text/plain": [
       "'DeeperTrade RestAPI'"
      ]
     },
     "execution_count": 51,
     "metadata": {},
     "output_type": "execute_result"
    }
   ],
   "source": [
    "r.json()['Name']"
   ]
  },
  {
   "cell_type": "code",
   "execution_count": 52,
   "metadata": {},
   "outputs": [
    {
     "data": {
      "text/plain": [
       "'https://deepertrade.azure-api.net/instruments/TH/AOT/data?Timeframe=D1&Lenght=100&From=2020-02-21+09%3A00&To=2020-02-21+17%3A00'"
      ]
     },
     "execution_count": 52,
     "metadata": {},
     "output_type": "execute_result"
    }
   ],
   "source": [
    "token = 'EF0AE94CB841F6F8CC32963815D7C1BC'\n",
    "url = 'https://deepertrade.azure-api.net/instruments/TH/AOT/data'\n",
    "\n",
    "api_headers = {\n",
    "    'Authorizstion' : 'Bearer' + token\n",
    "}\n",
    "payload = {\n",
    "    \"Timeframe\" : \"D1\",\n",
    "    'Lenght' : 100 ,\n",
    "    'From' : '2020-02-21 09:00',\n",
    "    'To' : '2020-02-21 17:00'\n",
    "}\n",
    "r = requests.get(url, headers=api_headers, params=payload)\n",
    "r. url"
   ]
  },
  {
   "cell_type": "code",
   "execution_count": 53,
   "metadata": {},
   "outputs": [
    {
     "data": {
      "text/plain": [
       "{'data': [], 'timeframe': 'D1', 'country': 'TH', 'instrument': 'AOT'}"
      ]
     },
     "execution_count": 53,
     "metadata": {},
     "output_type": "execute_result"
    }
   ],
   "source": [
    "r.json()"
   ]
  },
  {
   "cell_type": "code",
   "execution_count": 54,
   "metadata": {},
   "outputs": [
    {
     "data": {
      "text/html": [
       "<div>\n",
       "<style scoped>\n",
       "    .dataframe tbody tr th:only-of-type {\n",
       "        vertical-align: middle;\n",
       "    }\n",
       "\n",
       "    .dataframe tbody tr th {\n",
       "        vertical-align: top;\n",
       "    }\n",
       "\n",
       "    .dataframe thead th {\n",
       "        text-align: right;\n",
       "    }\n",
       "</style>\n",
       "<table border=\"1\" class=\"dataframe\">\n",
       "  <thead>\n",
       "    <tr style=\"text-align: right;\">\n",
       "      <th></th>\n",
       "    </tr>\n",
       "  </thead>\n",
       "  <tbody>\n",
       "  </tbody>\n",
       "</table>\n",
       "</div>"
      ],
      "text/plain": [
       "Empty DataFrame\n",
       "Columns: []\n",
       "Index: []"
      ]
     },
     "execution_count": 54,
     "metadata": {},
     "output_type": "execute_result"
    }
   ],
   "source": [
    "pd.DataFrame(r.json()['data'])"
   ]
  }
 ],
 "metadata": {
  "kernelspec": {
   "display_name": "Python 3",
   "language": "python",
   "name": "python3"
  },
  "language_info": {
   "codemirror_mode": {
    "name": "ipython",
    "version": 3
   },
   "file_extension": ".py",
   "mimetype": "text/x-python",
   "name": "python",
   "nbconvert_exporter": "python",
   "pygments_lexer": "ipython3",
   "version": "3.7.3"
  }
 },
 "nbformat": 4,
 "nbformat_minor": 2
}

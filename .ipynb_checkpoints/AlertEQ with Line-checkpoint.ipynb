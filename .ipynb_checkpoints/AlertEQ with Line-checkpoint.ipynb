{
 "cells": [
  {
   "cell_type": "code",
   "execution_count": 1,
   "metadata": {},
   "outputs": [],
   "source": [
    "import numpy as np\n",
    "import pandas as pd\n",
    "import matplotlib.pyplot\n",
    "%matplotlib inline\n",
    "import requests\n",
    "import DeeperTradeLibrary as dpt\n",
    "import datetime\n",
    "import pickle"
   ]
  },
  {
   "cell_type": "code",
   "execution_count": 2,
   "metadata": {},
   "outputs": [],
   "source": [
    "import requests\n",
    "import time\n",
    "from datetime import datetime\n",
    "import tqdm"
   ]
  },
  {
   "cell_type": "code",
   "execution_count": 3,
   "metadata": {},
   "outputs": [],
   "source": [
    "line_token = 'c6k0Pjdw4SmPsZONqvEiMqq2QDW6SBZkYLpQwawFiEa' #<<<<<<<<ใส่ Token ที่ได้จากการ Generate ผ่าน Line Notify"
   ]
  },
  {
   "cell_type": "code",
   "execution_count": 4,
   "metadata": {},
   "outputs": [],
   "source": [
    "def lineNotify(message='', image_file=None, image_url=None, stickerID=None, stickerPackageID=None):\n",
    "    payload = { 'message': message }\n",
    "    \n",
    "    if image_file is not None:\n",
    "        image_file = {'imageFile':open(image_file,'rb')}\n",
    "        \n",
    "    if image_url is not None:\n",
    "        payload['imageThumbnail'] = image_url\n",
    "        payload['imageFullsize'] = image_url\n",
    "    \n",
    "    \n",
    "    if (stickerID is not None) and (stickerPackageID is not None):\n",
    "        payload['stickerId'] = stickerID\n",
    "        payload['stickerPackageId'] = stickerPackageID\n",
    "\n",
    "    print(payload)\n",
    "    \n",
    "    url = 'https://notify-api.line.me/api/notify'\n",
    "    headers = {'Authorization':'Bearer '+ line_token}\n",
    "    \n",
    "    return requests.post(url, headers=headers , data=payload, files=image_file)"
   ]
  },
  {
   "cell_type": "code",
   "execution_count": 5,
   "metadata": {},
   "outputs": [
    {
     "data": {
      "text/html": [
       "<div>\n",
       "<style scoped>\n",
       "    .dataframe tbody tr th:only-of-type {\n",
       "        vertical-align: middle;\n",
       "    }\n",
       "\n",
       "    .dataframe tbody tr th {\n",
       "        vertical-align: top;\n",
       "    }\n",
       "\n",
       "    .dataframe thead th {\n",
       "        text-align: right;\n",
       "    }\n",
       "</style>\n",
       "<table border=\"1\" class=\"dataframe\">\n",
       "  <thead>\n",
       "    <tr style=\"text-align: right;\">\n",
       "      <th></th>\n",
       "      <th>Symbol</th>\n",
       "    </tr>\n",
       "  </thead>\n",
       "  <tbody>\n",
       "    <tr>\n",
       "      <th>0</th>\n",
       "      <td>ADVANC</td>\n",
       "    </tr>\n",
       "    <tr>\n",
       "      <th>1</th>\n",
       "      <td>AOT</td>\n",
       "    </tr>\n",
       "    <tr>\n",
       "      <th>2</th>\n",
       "      <td>AWC</td>\n",
       "    </tr>\n",
       "    <tr>\n",
       "      <th>3</th>\n",
       "      <td>BANPU</td>\n",
       "    </tr>\n",
       "    <tr>\n",
       "      <th>4</th>\n",
       "      <td>BBL</td>\n",
       "    </tr>\n",
       "  </tbody>\n",
       "</table>\n",
       "</div>"
      ],
      "text/plain": [
       "   Symbol\n",
       "0  ADVANC\n",
       "1     AOT\n",
       "2     AWC\n",
       "3   BANPU\n",
       "4     BBL"
      ]
     },
     "execution_count": 5,
     "metadata": {},
     "output_type": "execute_result"
    }
   ],
   "source": [
    "SET100 = pd.read_csv('th_set100.txt', header=None)\n",
    "SET100.columns = ['Symbol']\n",
    "SET100.head()"
   ]
  },
  {
   "cell_type": "code",
   "execution_count": 6,
   "metadata": {},
   "outputs": [],
   "source": [
    "SET100_list = SET100['Symbol'].values"
   ]
  },
  {
   "cell_type": "code",
   "execution_count": 7,
   "metadata": {},
   "outputs": [],
   "source": [
    "all_symbol_df = dict()"
   ]
  },
  {
   "cell_type": "code",
   "execution_count": 8,
   "metadata": {},
   "outputs": [
    {
     "name": "stderr",
     "output_type": "stream",
     "text": [
      "100%|████████████████████████████████████████████████████████████████████████████████| 100/100 [00:48<00:00,  1.82it/s]\n"
     ]
    }
   ],
   "source": [
    "for symbol in tqdm.tqdm(SET100_list):\n",
    "    all_symbol_df[symbol] = dpt.API.get_instrument_data('EF0AE94CB841F6F8CC32963815D7C1BC', \n",
    "                                                        country='TH', instrument=symbol, length=2)"
   ]
  },
  {
   "cell_type": "code",
   "execution_count": 9,
   "metadata": {},
   "outputs": [],
   "source": [
    "pct_change_all_symbol = dict()"
   ]
  },
  {
   "cell_type": "code",
   "execution_count": 10,
   "metadata": {},
   "outputs": [],
   "source": [
    "#หา %Change ของทั้งหมด"
   ]
  },
  {
   "cell_type": "code",
   "execution_count": 11,
   "metadata": {},
   "outputs": [],
   "source": [
    "for symbol in SET100_list:\n",
    "    pct_change_all_symbol[symbol] = all_symbol_df[symbol].close.pct_change()[1]"
   ]
  },
  {
   "cell_type": "code",
   "execution_count": 12,
   "metadata": {},
   "outputs": [],
   "source": [
    "#สร้าง Flag เพื่อตรวจสอบว่าส่งข้อความไปแล้วหรือยัง\n",
    "alert = dict()\n",
    "for symbol in SET100_list:\n",
    "    alert[symbol] = False"
   ]
  },
  {
   "cell_type": "code",
   "execution_count": 14,
   "metadata": {},
   "outputs": [
    {
     "name": "stdout",
     "output_type": "stream",
     "text": [
      "{'message': 'ADVANC is decrease more than 2%'}\n",
      "{'message': 'AOT is decrease more than 2%'}\n",
      "{'message': 'AWC is decrease more than 2%'}\n",
      "{'message': 'BANPU is decrease more than 2%'}\n",
      "{'message': 'BBL is decrease more than 2%'}\n",
      "{'message': 'BDMS is decrease more than 2%'}\n",
      "{'message': 'BEM is decrease more than 2%'}\n",
      "{'message': 'BGRIM is decrease more than 2%'}\n",
      "{'message': 'BH is decrease more than 2%'}\n",
      "{'message': 'BJC is decrease more than 2%'}\n",
      "{'message': 'BPP is decrease more than 2%'}\n",
      "{'message': 'BTS is decrease more than 2%'}\n",
      "{'message': 'CBG is decrease more than 2%'}\n",
      "{'message': 'CPALL is decrease more than 2%'}\n",
      "{'message': 'CPF is decrease more than 2%'}\n",
      "{'message': 'CPN is decrease more than 2%'}\n",
      "{'message': 'DELTA is decrease more than 2%'}\n",
      "{'message': 'DTAC is decrease more than 2%'}\n",
      "{'message': 'EA is decrease more than 2%'}\n",
      "{'message': 'GLOBAL is decrease more than 2%'}\n",
      "{'message': 'GPSC is decrease more than 2%'}\n",
      "{'message': 'HMPRO is decrease more than 2%'}\n",
      "{'message': 'INTUCH is decrease more than 2%'}\n",
      "{'message': 'IRPC is decrease more than 2%'}\n",
      "{'message': 'IVL is decrease more than 2%'}\n",
      "{'message': 'KBANK is decrease more than 2%'}\n",
      "{'message': 'KTB is decrease more than 2%'}\n",
      "{'message': 'KTC is decrease more than 2%'}\n",
      "{'message': 'LH is decrease more than 2%'}\n",
      "{'message': 'MINT is decrease more than 2%'}\n",
      "{'message': 'MTC is decrease more than 2%'}\n",
      "{'message': 'OSP is decrease more than 2%'}\n",
      "{'message': 'PTT is decrease more than 2%'}\n",
      "{'message': 'PTTEP is decrease more than 2%'}\n",
      "{'message': 'PTTGC is decrease more than 2%'}\n",
      "{'message': 'SAWAD is decrease more than 2%'}\n",
      "{'message': 'SCB is decrease more than 2%'}\n",
      "{'message': 'SCC is decrease more than 2%'}\n",
      "{'message': 'TCAP is decrease more than 2%'}\n",
      "{'message': 'TISCO is decrease more than 2%'}\n",
      "{'message': 'TMB is decrease more than 2%'}\n",
      "{'message': 'TOA is decrease more than 2%'}\n",
      "{'message': 'TOP is decrease more than 2%'}\n",
      "{'message': 'TRUE is decrease more than 2%'}\n",
      "{'message': 'TU is decrease more than 2%'}\n",
      "{'message': 'VGI is decrease more than 2%'}\n",
      "{'message': 'WHA is decrease more than 2%'}\n",
      "{'message': 'AAV is decrease more than 2%'}\n",
      "{'message': 'AEONTS is decrease more than 2%'}\n",
      "{'message': 'AMATA is decrease more than 2%'}\n",
      "{'message': 'AP is decrease more than 2%'}\n",
      "{'message': 'BCH is decrease more than 2%'}\n",
      "{'message': 'BCP is decrease more than 2%'}\n",
      "{'message': 'BCPG is decrease more than 2%'}\n",
      "{'message': 'BEC is decrease more than 2%'}\n",
      "{'message': 'BGC is decrease more than 2%'}\n",
      "{'message': 'CENTEL is decrease more than 2%'}\n",
      "{'message': 'CHG is decrease more than 2%'}\n",
      "{'message': 'CK is decrease more than 2%'}\n",
      "{'message': 'CKP is decrease more than 2%'}\n",
      "{'message': 'COM7 is decrease more than 2%'}\n",
      "{'message': 'EPG is decrease more than 2%'}\n",
      "{'message': 'ERW is decrease more than 2%'}\n",
      "{'message': 'ESSO is decrease more than 2%'}\n",
      "{'message': 'GFPT is decrease more than 2%'}\n",
      "{'message': 'GUNKUL is decrease more than 2%'}\n",
      "{'message': 'JAS is decrease more than 2%'}\n",
      "{'message': 'JMT is decrease more than 2%'}\n",
      "{'message': 'KKP is decrease more than 2%'}\n",
      "{'message': 'MAJOR is decrease more than 2%'}\n",
      "{'message': 'MEGA is decrease more than 2%'}\n",
      "{'message': 'ORI is decrease more than 2%'}\n",
      "{'message': 'PLANB is decrease more than 2%'}\n",
      "{'message': 'PRM is decrease more than 2%'}\n",
      "{'message': 'PSH is decrease more than 2%'}\n",
      "{'message': 'PSL is decrease more than 2%'}\n",
      "{'message': 'PTG is decrease more than 2%'}\n",
      "{'message': 'QH is decrease more than 2%'}\n",
      "{'message': 'SGP is decrease more than 2%'}\n",
      "{'message': 'SPALI is decrease more than 2%'}\n",
      "{'message': 'SPRC is decrease more than 2%'}\n",
      "{'message': 'STA is decrease more than 2%'}\n",
      "{'message': 'STEC is decrease more than 2%'}\n",
      "{'message': 'STPI is decrease more than 2%'}\n",
      "{'message': 'SUPER is decrease more than 2%'}\n",
      "{'message': 'TASCO is decrease more than 2%'}\n",
      "{'message': 'THAI is decrease more than 2%'}\n",
      "{'message': 'THANI is decrease more than 2%'}\n",
      "{'message': 'THG is decrease more than 2%'}\n",
      "{'message': 'TKN is decrease more than 2%'}\n",
      "{'message': 'TPIPP is decrease more than 2%'}\n",
      "{'message': 'TQM is decrease more than 2%'}\n"
     ]
    }
   ],
   "source": [
    "for symbol in pct_change_all_symbol:\n",
    "    if pct_change_all_symbol[symbol] >= 0.02 and (not alert[symbol]):\n",
    "        lineNotify(message='%s is increase more than 2%%' % symbol)\n",
    "        alert[symbol] = True\n",
    "    if pct_change_all_symbol[symbol] <= -0.02 and (not alert[symbol]):\n",
    "        lineNotify(message='%s is decrease more than 2%%' % symbol)\n",
    "        alert[symbol] = True"
   ]
  }
 ],
 "metadata": {
  "kernelspec": {
   "display_name": "Python 3",
   "language": "python",
   "name": "python3"
  },
  "language_info": {
   "codemirror_mode": {
    "name": "ipython",
    "version": 3
   },
   "file_extension": ".py",
   "mimetype": "text/x-python",
   "name": "python",
   "nbconvert_exporter": "python",
   "pygments_lexer": "ipython3",
   "version": "3.7.3"
  }
 },
 "nbformat": 4,
 "nbformat_minor": 2
}
